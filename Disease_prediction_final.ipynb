{
 "cells": [
  {
   "cell_type": "markdown",
   "metadata": {},
   "source": [
    "# PLANT DISEASE CLASSIFICATION "
   ]
  },
  {
   "cell_type": "code",
   "execution_count": null,
   "metadata": {
    "execution": {
     "iopub.execute_input": "2021-11-28T04:43:57.931598Z",
     "iopub.status.busy": "2021-11-28T04:43:57.931218Z",
     "iopub.status.idle": "2021-11-28T04:44:06.466262Z",
     "shell.execute_reply": "2021-11-28T04:44:06.465373Z",
     "shell.execute_reply.started": "2021-11-28T04:43:57.931566Z"
    }
   },
   "outputs": [],
   "source": [
    "!pip install torchsummary"
   ]
  },
  {
   "cell_type": "code",
   "execution_count": null,
   "metadata": {
    "_cell_guid": "b1076dfc-b9ad-4769-8c92-a6c4dae69d19",
    "_uuid": "8f2839f25d086af736a60e9eeb907d3b93b6e0e5",
    "execution": {
     "iopub.execute_input": "2021-11-28T04:44:06.469945Z",
     "iopub.status.busy": "2021-11-28T04:44:06.469597Z",
     "iopub.status.idle": "2021-11-28T04:44:07.957710Z",
     "shell.execute_reply": "2021-11-28T04:44:07.956819Z",
     "shell.execute_reply.started": "2021-11-28T04:44:06.469915Z"
    }
   },
   "outputs": [],
   "source": [
    "import os                       # for working with files\n",
    "import numpy as np              # for numerical computationss\n",
    "import pandas as pd             # for working with dataframes\n",
    "import torch                    # Pytorch module \n",
    "import matplotlib.pyplot as plt # for plotting informations on graph and images using tensors\n",
    "import torch.nn as nn           # for creating  neural networks\n",
    "from torch.utils.data import DataLoader # for dataloaders \n",
    "from PIL import Image           # for checking images\n",
    "import torch.nn.functional as F # for functions for calculating loss\n",
    "import torchvision.transforms as transforms   # for transforming images into tensors \n",
    "from torchvision.utils import make_grid       # for data checking\n",
    "from torchvision.datasets import ImageFolder  # for working with classes and images\n",
    "from torchsummary import summary              # for getting the summary of our model\n",
    "\n",
    "%matplotlib inline"
   ]
  },
  {
   "cell_type": "code",
   "execution_count": null,
   "metadata": {
    "execution": {
     "iopub.execute_input": "2021-11-28T04:44:07.959355Z",
     "iopub.status.busy": "2021-11-28T04:44:07.958995Z",
     "iopub.status.idle": "2021-11-28T04:44:08.015141Z",
     "shell.execute_reply": "2021-11-28T04:44:08.014364Z",
     "shell.execute_reply.started": "2021-11-28T04:44:07.959318Z"
    }
   },
   "outputs": [],
   "source": [
    "data_dir = \"../input/new-plant-diseases-dataset/New Plant Diseases Dataset(Augmented)/New Plant Diseases Dataset(Augmented)\"\n",
    "train_dir = data_dir + \"/train\"\n",
    "valid_dir = data_dir + \"/valid\"\n",
    "diseases = os.listdir(train_dir)"
   ]
  },
  {
   "cell_type": "code",
   "execution_count": null,
   "metadata": {
    "execution": {
     "iopub.execute_input": "2021-11-28T04:44:08.018235Z",
     "iopub.status.busy": "2021-11-28T04:44:08.017987Z",
     "iopub.status.idle": "2021-11-28T04:44:08.022950Z",
     "shell.execute_reply": "2021-11-28T04:44:08.021968Z",
     "shell.execute_reply.started": "2021-11-28T04:44:08.018210Z"
    }
   },
   "outputs": [],
   "source": [
    "# printing the disease names\n",
    "print(diseases)"
   ]
  },
  {
   "cell_type": "code",
   "execution_count": null,
   "metadata": {
    "execution": {
     "iopub.execute_input": "2021-11-28T04:44:08.027393Z",
     "iopub.status.busy": "2021-11-28T04:44:08.026711Z",
     "iopub.status.idle": "2021-11-28T04:44:08.033660Z",
     "shell.execute_reply": "2021-11-28T04:44:08.032261Z",
     "shell.execute_reply.started": "2021-11-28T04:44:08.027355Z"
    }
   },
   "outputs": [],
   "source": [
    "print(\"Total disease classes are: {}\".format(len(diseases)))"
   ]
  },
  {
   "cell_type": "code",
   "execution_count": null,
   "metadata": {
    "execution": {
     "iopub.execute_input": "2021-11-28T04:44:08.038380Z",
     "iopub.status.busy": "2021-11-28T04:44:08.037459Z",
     "iopub.status.idle": "2021-11-28T04:44:08.045018Z",
     "shell.execute_reply": "2021-11-28T04:44:08.044190Z",
     "shell.execute_reply.started": "2021-11-28T04:44:08.038339Z"
    }
   },
   "outputs": [],
   "source": [
    "plants = []\n",
    "NumberOfDiseases = 0\n",
    "for plant in diseases:\n",
    "    if plant.split('___')[0] not in plants:\n",
    "        plants.append(plant.split('___')[0])\n",
    "    if plant.split('___')[1] != 'healthy':\n",
    "        NumberOfDiseases += 1"
   ]
  },
  {
   "cell_type": "code",
   "execution_count": null,
   "metadata": {
    "execution": {
     "iopub.execute_input": "2021-11-28T04:44:08.048749Z",
     "iopub.status.busy": "2021-11-28T04:44:08.048314Z",
     "iopub.status.idle": "2021-11-28T04:44:08.055855Z",
     "shell.execute_reply": "2021-11-28T04:44:08.054847Z",
     "shell.execute_reply.started": "2021-11-28T04:44:08.048716Z"
    }
   },
   "outputs": [],
   "source": [
    "# unique plants in the dataset\n",
    "print(f\"Unique Plants are: \\n{plants}\")"
   ]
  },
  {
   "cell_type": "code",
   "execution_count": null,
   "metadata": {
    "execution": {
     "iopub.execute_input": "2021-11-28T04:44:08.057976Z",
     "iopub.status.busy": "2021-11-28T04:44:08.057383Z",
     "iopub.status.idle": "2021-11-28T04:44:08.065971Z",
     "shell.execute_reply": "2021-11-28T04:44:08.064888Z",
     "shell.execute_reply.started": "2021-11-28T04:44:08.057937Z"
    }
   },
   "outputs": [],
   "source": [
    "# number of unique plants\n",
    "print(\"Number of plants: {}\".format(len(plants)))"
   ]
  },
  {
   "cell_type": "code",
   "execution_count": null,
   "metadata": {
    "execution": {
     "iopub.execute_input": "2021-11-28T04:44:08.068474Z",
     "iopub.status.busy": "2021-11-28T04:44:08.067788Z",
     "iopub.status.idle": "2021-11-28T04:44:08.074210Z",
     "shell.execute_reply": "2021-11-28T04:44:08.073261Z",
     "shell.execute_reply.started": "2021-11-28T04:44:08.068278Z"
    }
   },
   "outputs": [],
   "source": [
    "# number of unique diseases\n",
    "print(\"Number of diseases: {}\".format(NumberOfDiseases))"
   ]
  },
  {
   "cell_type": "markdown",
   "metadata": {},
   "source": [
    "So we have images of leaves of 14 plants and while excluding healthy leaves, we have 26 types of images that show a particular disease in a particular plant."
   ]
  },
  {
   "cell_type": "code",
   "execution_count": null,
   "metadata": {
    "execution": {
     "iopub.execute_input": "2021-11-28T04:44:08.076681Z",
     "iopub.status.busy": "2021-11-28T04:44:08.075953Z",
     "iopub.status.idle": "2021-11-28T04:44:16.898034Z",
     "shell.execute_reply": "2021-11-28T04:44:16.897353Z",
     "shell.execute_reply.started": "2021-11-28T04:44:08.076636Z"
    }
   },
   "outputs": [],
   "source": [
    "# Number of images for each disease\n",
    "nums = {}\n",
    "for disease in diseases:\n",
    "    nums[disease] = len(os.listdir(train_dir + '/' + disease))\n",
    "    \n",
    "# converting the nums dictionary to pandas dataframe passing index as plant name and number of images as column\n",
    "\n",
    "img_per_class = pd.DataFrame(nums.values(), index=nums.keys(), columns=[\"no. of images\"])\n",
    "img_per_class"
   ]
  },
  {
   "cell_type": "code",
   "execution_count": null,
   "metadata": {},
   "outputs": [],
   "source": [
    "stats = ((0.4914, 0.4822, 0.4465), (0.2023, 0.1994, 0.2010))\n",
    "train_tfms = tt.Compose([tt.RandomCrop(32, padding=4, padding_mode='reflect'), \n",
    "                         tt.RandomHorizontalFlip(), \n",
    "                         # tt.RandomRotate\n",
    "                         # tt.RandomResizedCrop(256, scale=(0.5,0.9), ratio=(1, 1)), \n",
    "                         # tt.ColorJitter(brightness=0.1, contrast=0.1, saturation=0.1, hue=0.1),\n",
    "                         tt.ToTensor(), \n",
    "                         tt.Normalize(*stats,inplace=True)])\n",
    "valid_tfms = tt.Compose([tt.ToTensor(), tt.Normalize(*stats)])"
   ]
  },
  {
   "cell_type": "markdown",
   "metadata": {},
   "source": [
    "#### Images available for training"
   ]
  },
  {
   "cell_type": "code",
   "execution_count": null,
   "metadata": {
    "execution": {
     "iopub.execute_input": "2021-11-28T04:44:17.281534Z",
     "iopub.status.busy": "2021-11-28T04:44:17.281136Z",
     "iopub.status.idle": "2021-11-28T04:44:17.288405Z",
     "shell.execute_reply": "2021-11-28T04:44:17.286860Z",
     "shell.execute_reply.started": "2021-11-28T04:44:17.281488Z"
    }
   },
   "outputs": [],
   "source": [
    "n_train = 0\n",
    "for value in nums.values():\n",
    "    n_train += value\n",
    "print(f\"There are {n_train} images for training\")"
   ]
  },
  {
   "cell_type": "code",
   "execution_count": null,
   "metadata": {
    "execution": {
     "iopub.execute_input": "2021-11-28T04:44:17.290766Z",
     "iopub.status.busy": "2021-11-28T04:44:17.290275Z",
     "iopub.status.idle": "2021-11-28T04:45:29.239656Z",
     "shell.execute_reply": "2021-11-28T04:45:29.238743Z",
     "shell.execute_reply.started": "2021-11-28T04:44:17.290706Z"
    }
   },
   "outputs": [],
   "source": [
    "# datasets for validation and training\n",
    "train = ImageFolder(train_dir, transform=transforms.ToTensor())\n",
    "valid = ImageFolder(valid_dir, transform=transforms.ToTensor()) "
   ]
  },
  {
   "cell_type": "code",
   "execution_count": null,
   "metadata": {
    "execution": {
     "iopub.execute_input": "2021-11-28T04:45:29.242540Z",
     "iopub.status.busy": "2021-11-28T04:45:29.241909Z",
     "iopub.status.idle": "2021-11-28T04:45:29.312242Z",
     "shell.execute_reply": "2021-11-28T04:45:29.311349Z",
     "shell.execute_reply.started": "2021-11-28T04:45:29.242496Z"
    }
   },
   "outputs": [],
   "source": [
    "img, label = train[0]\n",
    "print(img.shape, label)"
   ]
  },
  {
   "cell_type": "code",
   "execution_count": null,
   "metadata": {
    "execution": {
     "iopub.execute_input": "2021-11-28T04:45:29.313979Z",
     "iopub.status.busy": "2021-11-28T04:45:29.313614Z",
     "iopub.status.idle": "2021-11-28T04:45:29.321517Z",
     "shell.execute_reply": "2021-11-28T04:45:29.320498Z",
     "shell.execute_reply.started": "2021-11-28T04:45:29.313950Z"
    }
   },
   "outputs": [],
   "source": [
    "# total number of classes in train set\n",
    "len(train.classes)"
   ]
  },
  {
   "cell_type": "code",
   "execution_count": null,
   "metadata": {
    "execution": {
     "iopub.execute_input": "2021-11-28T04:45:29.323932Z",
     "iopub.status.busy": "2021-11-28T04:45:29.323220Z",
     "iopub.status.idle": "2021-11-28T04:45:29.330600Z",
     "shell.execute_reply": "2021-11-28T04:45:29.329788Z",
     "shell.execute_reply.started": "2021-11-28T04:45:29.323824Z"
    }
   },
   "outputs": [],
   "source": [
    "# for checking some images from training dataset\n",
    "def show_image(image, label):\n",
    "    print(\"Label :\" + train.classes[label] + \"(\" + str(label) + \")\")\n",
    "    plt.imshow(image.permute(1, 2, 0))"
   ]
  },
  {
   "cell_type": "code",
   "execution_count": null,
   "metadata": {
    "execution": {
     "iopub.execute_input": "2021-11-28T04:45:29.942934Z",
     "iopub.status.busy": "2021-11-28T04:45:29.942246Z",
     "iopub.status.idle": "2021-11-28T04:45:29.952592Z",
     "shell.execute_reply": "2021-11-28T04:45:29.951500Z",
     "shell.execute_reply.started": "2021-11-28T04:45:29.942892Z"
    }
   },
   "outputs": [],
   "source": [
    "# Setting the seed value\n",
    "random_seed = 7\n",
    "torch.manual_seed(random_seed)"
   ]
  },
  {
   "cell_type": "code",
   "execution_count": null,
   "metadata": {
    "execution": {
     "iopub.execute_input": "2021-11-28T04:45:29.955044Z",
     "iopub.status.busy": "2021-11-28T04:45:29.954326Z",
     "iopub.status.idle": "2021-11-28T04:45:29.959759Z",
     "shell.execute_reply": "2021-11-28T04:45:29.958502Z",
     "shell.execute_reply.started": "2021-11-28T04:45:29.954998Z"
    }
   },
   "outputs": [],
   "source": [
    "# setting the batch size\n",
    "batch_size = 32"
   ]
  },
  {
   "cell_type": "code",
   "execution_count": null,
   "metadata": {
    "execution": {
     "iopub.execute_input": "2021-11-28T04:45:29.962254Z",
     "iopub.status.busy": "2021-11-28T04:45:29.961511Z",
     "iopub.status.idle": "2021-11-28T04:45:29.969687Z",
     "shell.execute_reply": "2021-11-28T04:45:29.968707Z",
     "shell.execute_reply.started": "2021-11-28T04:45:29.962210Z"
    }
   },
   "outputs": [],
   "source": [
    "# DataLoaders for training and validation\n",
    "train_dl = DataLoader(train, batch_size, shuffle=True, num_workers=2, pin_memory=True)\n",
    "valid_dl = DataLoader(valid, batch_size, num_workers=2, pin_memory=True)"
   ]
  },
  {
   "cell_type": "code",
   "execution_count": null,
   "metadata": {
    "execution": {
     "iopub.execute_input": "2021-11-28T04:45:29.973481Z",
     "iopub.status.busy": "2021-11-28T04:45:29.972252Z",
     "iopub.status.idle": "2021-11-28T04:45:29.981602Z",
     "shell.execute_reply": "2021-11-28T04:45:29.980530Z",
     "shell.execute_reply.started": "2021-11-28T04:45:29.973384Z"
    }
   },
   "outputs": [],
   "source": [
    "# helper function to show a batch of training instances\n",
    "def show_batch(data):\n",
    "    for images, labels in data:\n",
    "        fig, ax = plt.subplots(figsize=(30, 30))\n",
    "        ax.set_xticks([]); ax.set_yticks([])\n",
    "        ax.imshow(make_grid(images, nrow=8).permute(1, 2, 0))\n",
    "        break"
   ]
  },
  {
   "cell_type": "code",
   "execution_count": null,
   "metadata": {
    "execution": {
     "iopub.execute_input": "2021-11-28T04:45:29.985802Z",
     "iopub.status.busy": "2021-11-28T04:45:29.985165Z",
     "iopub.status.idle": "2021-11-28T04:45:36.182025Z",
     "shell.execute_reply": "2021-11-28T04:45:36.180777Z",
     "shell.execute_reply.started": "2021-11-28T04:45:29.985729Z"
    }
   },
   "outputs": [],
   "source": [
    "# Images for first batch of training\n",
    "show_batch(train_dl) "
   ]
  },
  {
   "cell_type": "markdown",
   "metadata": {},
   "source": [
    "#  Modelling "
   ]
  },
  {
   "cell_type": "markdown",
   "metadata": {},
   "source": [
    "#### Some helper functions"
   ]
  },
  {
   "cell_type": "code",
   "execution_count": null,
   "metadata": {
    "execution": {
     "iopub.execute_input": "2021-11-28T04:45:36.184615Z",
     "iopub.status.busy": "2021-11-28T04:45:36.184001Z",
     "iopub.status.idle": "2021-11-28T04:45:36.196750Z",
     "shell.execute_reply": "2021-11-28T04:45:36.195727Z",
     "shell.execute_reply.started": "2021-11-28T04:45:36.184570Z"
    }
   },
   "outputs": [],
   "source": [
    "def get_default_device():\n",
    "    \"\"\"Pick GPU if available, else CPU\"\"\"\n",
    "    if torch.cuda.is_available:\n",
    "        return torch.device(\"cuda\")\n",
    "    else:\n",
    "        return torch.device(\"cpu\")\n",
    "\n",
    "\n",
    "def to_device(data, device):\n",
    "    \"\"\"Move tensor(s) to chosen device\"\"\"\n",
    "    if isinstance(data, (list,tuple)):\n",
    "        return [to_device(x, device) for x in data]\n",
    "    return data.to(device, non_blocking=True)\n",
    "\n",
    "class DeviceDataLoader():\n",
    "    \"\"\"Wrap a dataloader to move data to a device\"\"\"\n",
    "    def __init__(self, dl, device):\n",
    "        self.dl = dl\n",
    "        self.device = device\n",
    "        \n",
    "    def __iter__(self):\n",
    "        \"\"\"Yield a batch of data after moving it to device\"\"\"\n",
    "        for b in self.dl:\n",
    "            yield to_device(b, self.device)\n",
    "        \n",
    "    def __len__(self):\n",
    "        \"\"\"Number of batches\"\"\"\n",
    "        return len(self.dl)"
   ]
  },
  {
   "cell_type": "code",
   "execution_count": null,
   "metadata": {
    "execution": {
     "iopub.execute_input": "2021-11-28T04:45:36.212729Z",
     "iopub.status.busy": "2021-11-28T04:45:36.211993Z",
     "iopub.status.idle": "2021-11-28T04:45:36.218602Z",
     "shell.execute_reply": "2021-11-28T04:45:36.217680Z",
     "shell.execute_reply.started": "2021-11-28T04:45:36.212681Z"
    }
   },
   "outputs": [],
   "source": [
    "train_dl = DeviceDataLoader(train_dl, device)\n",
    "valid_dl = DeviceDataLoader(valid_dl, device)"
   ]
  },
  {
   "cell_type": "markdown",
   "metadata": {},
   "source": [
    "##  Building the model architecture "
   ]
  },
  {
   "cell_type": "markdown",
   "metadata": {},
   "source": [
    "#### Residual Block code implementation"
   ]
  },
  {
   "cell_type": "code",
   "execution_count": null,
   "metadata": {
    "execution": {
     "iopub.execute_input": "2021-11-28T04:45:36.220995Z",
     "iopub.status.busy": "2021-11-28T04:45:36.220173Z",
     "iopub.status.idle": "2021-11-28T04:45:36.232078Z",
     "shell.execute_reply": "2021-11-28T04:45:36.231213Z",
     "shell.execute_reply.started": "2021-11-28T04:45:36.220953Z"
    }
   },
   "outputs": [],
   "source": [
    "class SimpleResidualBlock(nn.Module):\n",
    "    def __init__(self):\n",
    "\n",
    "        super().__init__()\n",
    "        self.conv1 = nn.Conv2d(in_channels=3, out_channels=3, kernel_size=3, stride=1, padding=1)\n",
    "        self.relu1 = nn.ReLU()\n",
    "        self.conv2 = nn.Conv2d(in_channels=3, out_channels=3, kernel_size=3, stride=1, padding=1)\n",
    "        self.relu2 = nn.ReLU()\n",
    "        \n",
    "    def forward(self, x):\n",
    "        out = self.conv1(x)\n",
    "        out = self.relu1(out)\n",
    "        out = self.conv2(out)\n",
    "        return self.relu2(out) + x # ReLU can be applied before or after adding the input"
   ]
  },
  {
   "cell_type": "code",
   "execution_count": null,
   "metadata": {
    "execution": {
     "iopub.execute_input": "2021-11-28T04:45:36.234161Z",
     "iopub.status.busy": "2021-11-28T04:45:36.233460Z",
     "iopub.status.idle": "2021-11-28T04:45:36.251084Z",
     "shell.execute_reply": "2021-11-28T04:45:36.250305Z",
     "shell.execute_reply.started": "2021-11-28T04:45:36.234123Z"
    }
   },
   "outputs": [],
   "source": [
    "# for calculating the accuracy\n",
    "def accuracy(outputs, labels):\n",
    "    _, preds = torch.max(outputs, dim=1)\n",
    "    return torch.tensor(torch.sum(preds == labels).item() / len(preds))\n",
    "\n",
    "\n",
    "# base class for the model\n",
    "class ImageClassificationBase(nn.Module):\n",
    "    \n",
    "    def training_step(self, batch):\n",
    "        images, labels = batch\n",
    "        out = self(images)                  # Generate predictions\n",
    "        loss = F.cross_entropy(out, labels) # Calculate loss\n",
    "        return loss\n",
    "    \n",
    "    def validation_step(self, batch):\n",
    "        images, labels = batch\n",
    "        out = self(images)                   # Generate prediction\n",
    "        loss = F.cross_entropy(out, labels)  # Calculate loss\n",
    "        acc = accuracy(out, labels)          # Calculate accuracy\n",
    "        return {\"val_loss\": loss.detach(), \"val_accuracy\": acc}\n",
    "    \n",
    "    def validation_epoch_end(self, outputs):\n",
    "        batch_losses = [x[\"val_loss\"] for x in outputs]\n",
    "        batch_accuracy = [x[\"val_accuracy\"] for x in outputs]\n",
    "        epoch_loss = torch.stack(batch_losses).mean()       # Combine loss  \n",
    "        epoch_accuracy = torch.stack(batch_accuracy).mean()\n",
    "        return {\"val_loss\": epoch_loss, \"val_accuracy\": epoch_accuracy} # Combine accuracies\n",
    "    \n",
    "    def epoch_end(self, epoch, result):\n",
    "        print(\"Epoch [{}], last_lr: {:.5f}, train_loss: {:.4f}, val_loss: {:.4f}, val_acc: {:.4f}\".format(\n",
    "            epoch, result['lrs'][-1], result['train_loss'], result['val_loss'], result['val_accuracy']))\n",
    "        "
   ]
  },
  {
   "cell_type": "markdown",
   "metadata": {},
   "source": [
    "## Final architecture of our model "
   ]
  },
  {
   "cell_type": "code",
   "execution_count": null,
   "metadata": {
    "execution": {
     "iopub.execute_input": "2021-11-28T04:45:36.253137Z",
     "iopub.status.busy": "2021-11-28T04:45:36.252542Z",
     "iopub.status.idle": "2021-11-28T04:45:36.272008Z",
     "shell.execute_reply": "2021-11-28T04:45:36.271138Z",
     "shell.execute_reply.started": "2021-11-28T04:45:36.253089Z"
    }
   },
   "outputs": [],
   "source": [
    "# Architecture for training\n",
    "\n",
    "def ConvBlock(in_channels, out_channels, pool=False):\n",
    "    layers = [nn.Conv2d(in_channels, out_channels, kernel_size=3, padding=1),\n",
    "             nn.BatchNorm2d(out_channels),\n",
    "             nn.ReLU(inplace=True)]\n",
    "    if pool:\n",
    "        layers.append(nn.MaxPool2d(4))\n",
    "    return nn.Sequential(*layers)\n",
    "\n",
    "\n",
    "\n",
    "class ResNet9(ImageClassificationBase):\n",
    "    def __init__(self, in_channels, num_diseases):\n",
    "        super().__init__()\n",
    "        \n",
    "        self.conv1 = ConvBlock(in_channels, 64)\n",
    "        self.conv2 = ConvBlock(64, 128, pool=True) # out_dim : 128 x 64 x 64 \n",
    "        self.res1 = nn.Sequential(ConvBlock(128, 128), ConvBlock(128, 128))\n",
    "        \n",
    "        self.conv3 = ConvBlock(128, 256, pool=True) # out_dim : 256 x 16 x 16\n",
    "        self.conv4 = ConvBlock(256, 512, pool=True) # out_dim : 512 x 4 x 44\n",
    "        self.res2 = nn.Sequential(ConvBlock(512, 512), ConvBlock(512, 512))\n",
    "        \n",
    "        self.classifier = nn.Sequential(nn.MaxPool2d(4),\n",
    "                                       nn.Flatten(),\n",
    "                                       nn.Linear(512, num_diseases))\n",
    "        \n",
    "    def forward(self, xb): # xb is the loaded batch\n",
    "        out = self.conv1(xb)\n",
    "        out = self.conv2(out)\n",
    "        out = self.res1(out) + out\n",
    "        out = self.conv3(out)\n",
    "        out = self.conv4(out)\n",
    "        out = self.res2(out) + out\n",
    "        out = self.classifier(out)\n",
    "        return out        "
   ]
  },
  {
   "cell_type": "markdown",
   "metadata": {},
   "source": [
    "Now, we define a model object and transfer it into the device with which we are working..."
   ]
  },
  {
   "cell_type": "code",
   "execution_count": null,
   "metadata": {
    "execution": {
     "iopub.execute_input": "2021-11-28T04:45:36.274209Z",
     "iopub.status.busy": "2021-11-28T04:45:36.273825Z",
     "iopub.status.idle": "2021-11-28T04:45:36.367321Z",
     "shell.execute_reply": "2021-11-28T04:45:36.366438Z",
     "shell.execute_reply.started": "2021-11-28T04:45:36.274175Z"
    }
   },
   "outputs": [],
   "source": [
    "# defining the model and moving it to the GPU\n",
    "model = to_device(ResNet9(3, len(train.classes)), device) \n",
    "model"
   ]
  },
  {
   "cell_type": "markdown",
   "metadata": {},
   "source": [
    "*Getting a nicely formatted summary of our model (like in Keras). Pytorch doesn't support it natively. So, we need to install the `torchsummary` library (discussed earlier)*"
   ]
  },
  {
   "cell_type": "code",
   "execution_count": null,
   "metadata": {
    "execution": {
     "iopub.execute_input": "2021-11-28T04:45:36.373185Z",
     "iopub.status.busy": "2021-11-28T04:45:36.372914Z",
     "iopub.status.idle": "2021-11-28T04:45:36.976932Z",
     "shell.execute_reply": "2021-11-28T04:45:36.975973Z",
     "shell.execute_reply.started": "2021-11-28T04:45:36.373157Z"
    }
   },
   "outputs": [],
   "source": [
    "# getting summary of the model\n",
    "INPUT_SHAPE = (3, 256, 256)\n",
    "print(summary(model.cuda(), (INPUT_SHAPE)))"
   ]
  },
  {
   "cell_type": "markdown",
   "metadata": {},
   "source": [
    "# Training the model"
   ]
  },
  {
   "cell_type": "code",
   "execution_count": null,
   "metadata": {
    "execution": {
     "iopub.execute_input": "2021-11-28T04:45:36.980133Z",
     "iopub.status.busy": "2021-11-28T04:45:36.979755Z",
     "iopub.status.idle": "2021-11-28T04:45:36.996429Z",
     "shell.execute_reply": "2021-11-28T04:45:36.995507Z",
     "shell.execute_reply.started": "2021-11-28T04:45:36.980100Z"
    }
   },
   "outputs": [],
   "source": [
    "# for training\n",
    "@torch.no_grad()\n",
    "def evaluate(model, val_loader):\n",
    "    model.eval()\n",
    "    outputs = [model.validation_step(batch) for batch in val_loader]\n",
    "    return model.validation_epoch_end(outputs)\n",
    "\n",
    "\n",
    "def get_lr(optimizer):\n",
    "    for param_group in optimizer.param_groups:\n",
    "        return param_group['lr']\n",
    "    \n",
    "\n",
    "def fit_OneCycle(epochs, max_lr, model, train_loader, val_loader, weight_decay=0,\n",
    "                grad_clip=None, opt_func=torch.optim.SGD):\n",
    "    torch.cuda.empty_cache()\n",
    "    history = []\n",
    "    \n",
    "    optimizer = opt_func(model.parameters(), max_lr, weight_decay=weight_decay)\n",
    "    # scheduler for one cycle learniing rate\n",
    "    sched = torch.optim.lr_scheduler.OneCycleLR(optimizer, max_lr, epochs=epochs, steps_per_epoch=len(train_loader))\n",
    "    \n",
    "    \n",
    "    for epoch in range(epochs):\n",
    "        # Training\n",
    "        model.train()\n",
    "        train_losses = []\n",
    "        lrs = []\n",
    "        for batch in train_loader:\n",
    "            loss = model.training_step(batch)\n",
    "            train_losses.append(loss)\n",
    "            loss.backward()\n",
    "            \n",
    "            # gradient clipping\n",
    "            if grad_clip: \n",
    "                nn.utils.clip_grad_value_(model.parameters(), grad_clip)\n",
    "                \n",
    "            optimizer.step()\n",
    "            optimizer.zero_grad()\n",
    "            \n",
    "            # recording and updating learning rates\n",
    "            lrs.append(get_lr(optimizer))\n",
    "            sched.step()\n",
    "            \n",
    "    \n",
    "        # validation\n",
    "        result = evaluate(model, val_loader)\n",
    "        result['train_loss'] = torch.stack(train_losses).mean().item()\n",
    "        result['lrs'] = lrs\n",
    "        model.epoch_end(epoch, result)\n",
    "        history.append(result)\n",
    "        \n",
    "    return history\n",
    "    "
   ]
  },
  {
   "cell_type": "markdown",
   "metadata": {},
   "source": [
    "Let's check our validation loss and accuracy"
   ]
  },
  {
   "cell_type": "code",
   "execution_count": null,
   "metadata": {
    "execution": {
     "iopub.execute_input": "2021-11-28T04:45:37.000256Z",
     "iopub.status.busy": "2021-11-28T04:45:36.999823Z",
     "iopub.status.idle": "2021-11-28T04:46:53.034336Z",
     "shell.execute_reply": "2021-11-28T04:46:53.033274Z",
     "shell.execute_reply.started": "2021-11-28T04:45:37.000186Z"
    }
   },
   "outputs": [],
   "source": [
    "%%time\n",
    "history = [evaluate(model, valid_dl)]\n",
    "history"
   ]
  },
  {
   "cell_type": "code",
   "execution_count": null,
   "metadata": {
    "execution": {
     "iopub.execute_input": "2021-11-28T04:46:53.036423Z",
     "iopub.status.busy": "2021-11-28T04:46:53.036036Z",
     "iopub.status.idle": "2021-11-28T04:46:53.041354Z",
     "shell.execute_reply": "2021-11-28T04:46:53.040466Z",
     "shell.execute_reply.started": "2021-11-28T04:46:53.036382Z"
    }
   },
   "outputs": [],
   "source": [
    "epochs = 2\n",
    "max_lr = 0.01\n",
    "grad_clip = 0.1\n",
    "weight_decay = 1e-4\n",
    "opt_func = torch.optim.Adam"
   ]
  },
  {
   "cell_type": "code",
   "execution_count": null,
   "metadata": {
    "execution": {
     "iopub.execute_input": "2021-11-28T04:46:53.043985Z",
     "iopub.status.busy": "2021-11-28T04:46:53.043184Z",
     "iopub.status.idle": "2021-11-28T05:06:37.223173Z",
     "shell.execute_reply": "2021-11-28T05:06:37.221938Z",
     "shell.execute_reply.started": "2021-11-28T04:46:53.043946Z"
    }
   },
   "outputs": [],
   "source": [
    "%%time\n",
    "history += fit_OneCycle(epochs, max_lr, model, train_dl, valid_dl, \n",
    "                             grad_clip=grad_clip, \n",
    "                             weight_decay=1e-4, \n",
    "                             opt_func=opt_func)"
   ]
  },
  {
   "cell_type": "markdown",
   "metadata": {},
   "source": [
    "### We got an accuracy of 99.2 % "
   ]
  },
  {
   "cell_type": "markdown",
   "metadata": {},
   "source": [
    "#### Helper functions for plotting"
   ]
  },
  {
   "cell_type": "code",
   "execution_count": null,
   "metadata": {
    "execution": {
     "iopub.execute_input": "2021-11-28T05:06:37.250925Z",
     "iopub.status.busy": "2021-11-28T05:06:37.250303Z",
     "iopub.status.idle": "2021-11-28T05:06:37.261930Z",
     "shell.execute_reply": "2021-11-28T05:06:37.261244Z",
     "shell.execute_reply.started": "2021-11-28T05:06:37.250876Z"
    }
   },
   "outputs": [],
   "source": [
    "def plot_accuracies(history):\n",
    "    accuracies = [x['val_accuracy'] for x in history]\n",
    "    plt.plot(accuracies, '-x')\n",
    "    plt.xlabel('epoch')\n",
    "    plt.ylabel('accuracy')\n",
    "    plt.title('Accuracy vs. No. of epochs');\n",
    "\n",
    "def plot_losses(history):\n",
    "    train_losses = [x.get('train_loss') for x in history]\n",
    "    val_losses = [x['val_loss'] for x in history]\n",
    "    plt.plot(train_losses, '-bx')\n",
    "    plt.plot(val_losses, '-rx')\n",
    "    plt.xlabel('epoch')\n",
    "    plt.ylabel('loss')\n",
    "    plt.legend(['Training', 'Validation'])\n",
    "    plt.title('Loss vs. No. of epochs');\n",
    "    \n",
    "def plot_lrs(history):\n",
    "    lrs = np.concatenate([x.get('lrs', []) for x in history])\n",
    "    plt.plot(lrs)\n",
    "    plt.xlabel('Batch no.')\n",
    "    plt.ylabel('Learning rate')\n",
    "    plt.title('Learning Rate vs. Batch no.');"
   ]
  },
  {
   "cell_type": "markdown",
   "metadata": {},
   "source": [
    "## Validation Accuracy"
   ]
  },
  {
   "cell_type": "code",
   "execution_count": null,
   "metadata": {
    "execution": {
     "iopub.execute_input": "2021-11-28T05:06:37.263810Z",
     "iopub.status.busy": "2021-11-28T05:06:37.263410Z",
     "iopub.status.idle": "2021-11-28T05:06:37.419328Z",
     "shell.execute_reply": "2021-11-28T05:06:37.418564Z",
     "shell.execute_reply.started": "2021-11-28T05:06:37.263771Z"
    }
   },
   "outputs": [],
   "source": [
    "plot_accuracies(history)"
   ]
  },
  {
   "cell_type": "markdown",
   "metadata": {},
   "source": [
    "## Validation loss"
   ]
  },
  {
   "cell_type": "code",
   "execution_count": null,
   "metadata": {
    "execution": {
     "iopub.execute_input": "2021-11-28T05:06:37.420975Z",
     "iopub.status.busy": "2021-11-28T05:06:37.420643Z",
     "iopub.status.idle": "2021-11-28T05:06:37.591415Z",
     "shell.execute_reply": "2021-11-28T05:06:37.590487Z",
     "shell.execute_reply.started": "2021-11-28T05:06:37.420934Z"
    }
   },
   "outputs": [],
   "source": [
    "plot_losses(history)"
   ]
  },
  {
   "cell_type": "markdown",
   "metadata": {},
   "source": [
    "# Testing model on test data "
   ]
  },
  {
   "cell_type": "code",
   "execution_count": null,
   "metadata": {
    "execution": {
     "iopub.execute_input": "2021-11-28T05:06:37.734974Z",
     "iopub.status.busy": "2021-11-28T05:06:37.734701Z",
     "iopub.status.idle": "2021-11-28T05:06:37.756169Z",
     "shell.execute_reply": "2021-11-28T05:06:37.755472Z",
     "shell.execute_reply.started": "2021-11-28T05:06:37.734946Z"
    }
   },
   "outputs": [],
   "source": [
    "test_dir = \"../input/new-plant-diseases-dataset/test\"\n",
    "test = ImageFolder(test_dir, transform=transforms.ToTensor())"
   ]
  },
  {
   "cell_type": "code",
   "execution_count": null,
   "metadata": {
    "execution": {
     "iopub.execute_input": "2021-11-28T05:06:37.759291Z",
     "iopub.status.busy": "2021-11-28T05:06:37.759028Z",
     "iopub.status.idle": "2021-11-28T05:06:37.769402Z",
     "shell.execute_reply": "2021-11-28T05:06:37.768713Z",
     "shell.execute_reply.started": "2021-11-28T05:06:37.759266Z"
    }
   },
   "outputs": [],
   "source": [
    "test_images = sorted(os.listdir(test_dir + '/test')) # since images in test folder are in alphabetical order\n",
    "test_images"
   ]
  },
  {
   "cell_type": "code",
   "execution_count": null,
   "metadata": {
    "execution": {
     "iopub.execute_input": "2021-11-28T05:06:37.771749Z",
     "iopub.status.busy": "2021-11-28T05:06:37.771391Z",
     "iopub.status.idle": "2021-11-28T05:06:37.779697Z",
     "shell.execute_reply": "2021-11-28T05:06:37.778898Z",
     "shell.execute_reply.started": "2021-11-28T05:06:37.771712Z"
    }
   },
   "outputs": [],
   "source": [
    "def predict_image(img, model):\n",
    "    \"\"\"Converts image to array and return the predicted class\n",
    "        with highest probability\"\"\"\n",
    "    # Convert to a batch of 1\n",
    "    xb = to_device(img.unsqueeze(0), device)\n",
    "    # Get predictions from model\n",
    "    yb = model(xb)\n",
    "    # Pick index with highest probability\n",
    "    _, preds  = torch.max(yb, dim=1)\n",
    "    # Retrieve the class label\n",
    "\n",
    "    return train.classes[preds[0].item()]"
   ]
  },
  {
   "cell_type": "code",
   "execution_count": null,
   "metadata": {
    "execution": {
     "iopub.execute_input": "2021-11-28T05:06:37.783354Z",
     "iopub.status.busy": "2021-11-28T05:06:37.783013Z",
     "iopub.status.idle": "2021-11-28T05:06:38.009067Z",
     "shell.execute_reply": "2021-11-28T05:06:38.008079Z",
     "shell.execute_reply.started": "2021-11-28T05:06:37.783324Z"
    }
   },
   "outputs": [],
   "source": [
    "# predicting first image\n",
    "img, label = test[0]\n",
    "plt.imshow(img.permute(1, 2, 0))\n",
    "print('Label:', test_images[0], ', Predicted:', predict_image(img, model))"
   ]
  },
  {
   "cell_type": "code",
   "execution_count": null,
   "metadata": {
    "execution": {
     "iopub.execute_input": "2021-11-28T05:06:38.015978Z",
     "iopub.status.busy": "2021-11-28T05:06:38.013580Z",
     "iopub.status.idle": "2021-11-28T05:06:38.484859Z",
     "shell.execute_reply": "2021-11-28T05:06:38.483979Z",
     "shell.execute_reply.started": "2021-11-28T05:06:38.015936Z"
    }
   },
   "outputs": [],
   "source": [
    "# getting all predictions (actual label vs predicted)\n",
    "for i, (img, label) in enumerate(test):\n",
    "    print('Label:', test_images[i], ', Predicted:', predict_image(img, model))"
   ]
  },
  {
   "cell_type": "markdown",
   "metadata": {},
   "source": [
    "**We can see that the model predicted all the test images perfectly!!!!**"
   ]
  },
  {
   "cell_type": "markdown",
   "metadata": {},
   "source": [
    "# Saving the model"
   ]
  },
  {
   "cell_type": "markdown",
   "metadata": {},
   "source": [
    "1. **Save/Load `state_dict` "
   ]
  },
  {
   "cell_type": "code",
   "execution_count": null,
   "metadata": {
    "execution": {
     "iopub.execute_input": "2021-11-28T05:06:38.491125Z",
     "iopub.status.busy": "2021-11-28T05:06:38.488887Z",
     "iopub.status.idle": "2021-11-28T05:06:38.583940Z",
     "shell.execute_reply": "2021-11-28T05:06:38.582894Z",
     "shell.execute_reply.started": "2021-11-28T05:06:38.491077Z"
    }
   },
   "outputs": [],
   "source": [
    "# saving to the kaggle working directory\n",
    "PATH = './plant-disease-model.pth'  \n",
    "torch.save(model.state_dict(), PATH)"
   ]
  },
  {
   "cell_type": "markdown",
   "metadata": {},
   "source": [
    "2. **Save/Load Entire Model**"
   ]
  },
  {
   "cell_type": "code",
   "execution_count": null,
   "metadata": {
    "execution": {
     "iopub.execute_input": "2021-11-28T05:06:38.585744Z",
     "iopub.status.busy": "2021-11-28T05:06:38.585211Z",
     "iopub.status.idle": "2021-11-28T05:06:38.671886Z",
     "shell.execute_reply": "2021-11-28T05:06:38.670610Z",
     "shell.execute_reply.started": "2021-11-28T05:06:38.585703Z"
    }
   },
   "outputs": [],
   "source": [
    "# saving the entire model to working directory\n",
    "PATH = './plant-disease-model-complete.pth'\n",
    "torch.save(model, PATH)"
   ]
  },
  {
   "cell_type": "code",
   "execution_count": null,
   "metadata": {
    "execution": {
     "iopub.execute_input": "2021-11-28T05:06:38.677154Z",
     "iopub.status.busy": "2021-11-28T05:06:38.676515Z",
     "iopub.status.idle": "2021-11-28T05:06:38.784973Z",
     "shell.execute_reply": "2021-11-28T05:06:38.783649Z",
     "shell.execute_reply.started": "2021-11-28T05:06:38.677113Z"
    }
   },
   "outputs": [],
   "source": [
    "model.save(\"model.h5\")"
   ]
  }
 ],
 "metadata": {
  "kernelspec": {
   "display_name": "Python 3",
   "language": "python",
   "name": "python3"
  },
  "language_info": {
   "codemirror_mode": {
    "name": "ipython",
    "version": 3
   },
   "file_extension": ".py",
   "mimetype": "text/x-python",
   "name": "python",
   "nbconvert_exporter": "python",
   "pygments_lexer": "ipython3",
   "version": "3.8.3"
  }
 },
 "nbformat": 4,
 "nbformat_minor": 4
}
