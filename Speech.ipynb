{
 "cells": [
  {
   "cell_type": "code",
   "execution_count": 2,
   "metadata": {},
   "outputs": [
    {
     "name": "stdout",
     "output_type": "stream",
     "text": [
      "Collecting SpeechRecognition\n",
      "  Downloading SpeechRecognition-3.8.1-py2.py3-none-any.whl (32.8 MB)\n",
      "Installing collected packages: SpeechRecognition\n",
      "Successfully installed SpeechRecognition-3.8.1\n",
      "Collecting gTTS\n",
      "  Downloading gTTS-2.2.3-py3-none-any.whl (25 kB)\n",
      "Requirement already satisfied: click in c:\\users\\hp\\anaconda3\\lib\\site-packages (from gTTS) (7.1.2)\n",
      "Requirement already satisfied: six in c:\\users\\hp\\anaconda3\\lib\\site-packages (from gTTS) (1.15.0)\n",
      "Requirement already satisfied: requests in c:\\users\\hp\\anaconda3\\lib\\site-packages (from gTTS) (2.24.0)\n",
      "Requirement already satisfied: urllib3!=1.25.0,!=1.25.1,<1.26,>=1.21.1 in c:\\users\\hp\\anaconda3\\lib\\site-packages (from requests->gTTS) (1.25.9)\n",
      "Requirement already satisfied: certifi>=2017.4.17 in c:\\users\\hp\\anaconda3\\lib\\site-packages (from requests->gTTS) (2020.6.20)\n",
      "Requirement already satisfied: chardet<4,>=3.0.2 in c:\\users\\hp\\anaconda3\\lib\\site-packages (from requests->gTTS) (3.0.4)\n",
      "Requirement already satisfied: idna<3,>=2.5 in c:\\users\\hp\\anaconda3\\lib\\site-packages (from requests->gTTS) (2.10)\n",
      "Installing collected packages: gTTS\n",
      "Successfully installed gTTS-2.2.3\n"
     ]
    }
   ],
   "source": [
    "!pip install SpeechRecognition \n",
    "!pip install gTTS  "
   ]
  },
  {
   "cell_type": "code",
   "execution_count": 3,
   "metadata": {},
   "outputs": [
    {
     "name": "stdout",
     "output_type": "stream",
     "text": [
      "Collecting pipwin\n",
      "  Downloading pipwin-0.5.1.tar.gz (8.8 kB)\n",
      "Collecting docopt\n",
      "  Downloading docopt-0.6.2.tar.gz (25 kB)\n",
      "Requirement already satisfied: requests in c:\\users\\hp\\anaconda3\\lib\\site-packages (from pipwin) (2.24.0)\n",
      "Collecting pyprind\n",
      "  Downloading PyPrind-2.11.3-py2.py3-none-any.whl (8.4 kB)\n",
      "Requirement already satisfied: six in c:\\users\\hp\\anaconda3\\lib\\site-packages (from pipwin) (1.15.0)\n",
      "Requirement already satisfied: beautifulsoup4>=4.9.0 in c:\\users\\hp\\anaconda3\\lib\\site-packages (from pipwin) (4.9.1)\n",
      "Collecting js2py\n",
      "  Downloading Js2Py-0.71-py3-none-any.whl (1.0 MB)\n",
      "Requirement already satisfied: packaging in c:\\users\\hp\\anaconda3\\lib\\site-packages (from pipwin) (20.4)\n",
      "Collecting pySmartDL>=1.3.1\n",
      "  Downloading pySmartDL-1.3.4-py3-none-any.whl (20 kB)\n",
      "Requirement already satisfied: idna<3,>=2.5 in c:\\users\\hp\\anaconda3\\lib\\site-packages (from requests->pipwin) (2.10)\n",
      "Requirement already satisfied: urllib3!=1.25.0,!=1.25.1,<1.26,>=1.21.1 in c:\\users\\hp\\anaconda3\\lib\\site-packages (from requests->pipwin) (1.25.9)\n",
      "Requirement already satisfied: chardet<4,>=3.0.2 in c:\\users\\hp\\anaconda3\\lib\\site-packages (from requests->pipwin) (3.0.4)\n",
      "Requirement already satisfied: certifi>=2017.4.17 in c:\\users\\hp\\anaconda3\\lib\\site-packages (from requests->pipwin) (2020.6.20)\n",
      "Requirement already satisfied: soupsieve>1.2 in c:\\users\\hp\\anaconda3\\lib\\site-packages (from beautifulsoup4>=4.9.0->pipwin) (2.0.1)\n",
      "Collecting tzlocal>=1.2\n",
      "  Downloading tzlocal-4.1-py3-none-any.whl (19 kB)\n",
      "Collecting pyjsparser>=2.5.1\n",
      "  Downloading pyjsparser-2.7.1.tar.gz (24 kB)\n",
      "Requirement already satisfied: pyparsing>=2.0.2 in c:\\users\\hp\\anaconda3\\lib\\site-packages (from packaging->pipwin) (2.4.7)\n",
      "Collecting backports.zoneinfo; python_version < \"3.9\"\n",
      "  Downloading backports.zoneinfo-0.2.1-cp38-cp38-win_amd64.whl (38 kB)\n",
      "Collecting tzdata; platform_system == \"Windows\"\n",
      "  Downloading tzdata-2021.5-py2.py3-none-any.whl (339 kB)\n",
      "Collecting pytz-deprecation-shim\n",
      "  Downloading pytz_deprecation_shim-0.1.0.post0-py2.py3-none-any.whl (15 kB)\n",
      "Building wheels for collected packages: pipwin, docopt, pyjsparser\n",
      "  Building wheel for pipwin (setup.py): started\n",
      "  Building wheel for pipwin (setup.py): finished with status 'done'\n",
      "  Created wheel for pipwin: filename=pipwin-0.5.1-py2.py3-none-any.whl size=8778 sha256=97303d3c55c6ceb4c5362bc53ca85be89eb3ac535e31c6f556e02c5e00f01c15\n",
      "  Stored in directory: c:\\users\\hp\\appdata\\local\\pip\\cache\\wheels\\94\\1b\\63\\6465d24b53c03f566cfb25a7a9b806b4b0e29c95d82ac189d8\n",
      "  Building wheel for docopt (setup.py): started\n",
      "  Building wheel for docopt (setup.py): finished with status 'done'\n",
      "  Created wheel for docopt: filename=docopt-0.6.2-py2.py3-none-any.whl size=13705 sha256=f7dece709e07fdfa03bde56ef46f79b989d3eac3cee6767782522ebd736f5b11\n",
      "  Stored in directory: c:\\users\\hp\\appdata\\local\\pip\\cache\\wheels\\56\\ea\\58\\ead137b087d9e326852a851351d1debf4ada529b6ac0ec4e8c\n",
      "  Building wheel for pyjsparser (setup.py): started\n",
      "  Building wheel for pyjsparser (setup.py): finished with status 'done'\n",
      "  Created wheel for pyjsparser: filename=pyjsparser-2.7.1-py3-none-any.whl size=25998 sha256=5cc46319e824c4d1e9af7242ca286f00ea3ad0600d76d8e22fdd7123c804ac5c\n",
      "  Stored in directory: c:\\users\\hp\\appdata\\local\\pip\\cache\\wheels\\d5\\88\\34\\ccb5bb40eb3178a134eb293e6c363928c5bcfba0b91031db76\n",
      "Successfully built pipwin docopt pyjsparser\n",
      "Installing collected packages: docopt, pyprind, backports.zoneinfo, tzdata, pytz-deprecation-shim, tzlocal, pyjsparser, js2py, pySmartDL, pipwin\n",
      "Successfully installed backports.zoneinfo-0.2.1 docopt-0.6.2 js2py-0.71 pipwin-0.5.1 pySmartDL-1.3.4 pyjsparser-2.7.1 pyprind-2.11.3 pytz-deprecation-shim-0.1.0.post0 tzdata-2021.5 tzlocal-4.1\n",
      "Building cache. Hang on . . .\n",
      "Done\n",
      "Package `pyaudio` found in cache\n",
      "Downloading package . . .\n",
      "https://download.lfd.uci.edu/pythonlibs/w6tyco5e/PyAudio-0.2.11-cp38-cp38-win_amd64.whl\n",
      "PyAudio-0.2.11-cp38-cp38-win_amd64.whl\n",
      "[*] 0 bytes / 110 kB @ 0 bytes/s [------------------] [0.0%, 0s left]   [*] 0 bytes / 110 kB @ 0 bytes/s [------------------] [0.0%, 0s left]   [*] 0 bytes / 110 kB @ 0 bytes/s [------------------] [0.0%, 0s left]   [*] 0 bytes / 110 kB @ 0 bytes/s [------------------] [0.0%, 0s left]   [*] 0 bytes / 110 kB @ 0 bytes/s [------------------] [0.0%, 0s left]   [*] 0 bytes / 110 kB @ 0 bytes/s [------------------] [0.0%, 0s left]   [*] 0 bytes / 110 kB @ 0 bytes/s [------------------] [0.0%, 0s left]   [*] 0 bytes / 110 kB @ 0 bytes/s [------------------] [0.0%, 0s left]   [*] 0 bytes / 110 kB @ 0 bytes/s [------------------] [0.0%, 0s left]   [*] 0 bytes / 110 kB @ 0 bytes/s [------------------] [0.0%, 0s left]   [*] 0 bytes / 110 kB @ 0 bytes/s [------------------] [0.0%, 0s left]   [*] 0 bytes / 110 kB @ 0 bytes/s [------------------] [0.0%, 0s left]   [*] 0 bytes / 110 kB @ 0 bytes/s [------------------] [0.0%, 0s left]   [*] 0 bytes / 110 kB @ 0 bytes/s [------------------] [0.0%, 0s left]   [*] 0 bytes / 110 kB @ 0 bytes/s [------------------] [0.0%, 0s left]   [*] 0 bytes / 110 kB @ 0 bytes/s [------------------] [0.0%, 0s left]   [*] 0 bytes / 110 kB @ 0 bytes/s [------------------] [0.0%, 0s left]   [*] 0 bytes / 110 kB @ 0 bytes/s [------------------] [0.0%, 0s left]   [*] 0 bytes / 110 kB @ 0 bytes/s [------------------] [0.0%, 0s left]   [*] 8 kB / 110 kB @ 4 kB/s [#-----------------] [7.3%, 0s left]   [*] 8 kB / 110 kB @ 4 kB/s [#-----------------] [7.3%, 0s left]   [*] 8 kB / 110 kB @ 4 kB/s [#-----------------] [7.3%, 0s left]   [*] 40 kB / 110 kB @ 17 kB/s [######------------] [36.4%, 0s left]  [*] 40 kB / 110 kB @ 17 kB/s [######------------] [36.4%, 0s left]  [*] 40 kB / 110 kB @ 16 kB/s [######------------] [36.4%, 0s left]  Processing c:\\users\\hp\\pipwin\\pyaudio-0.2.11-cp38-cp38-win_amd64.whl\n",
      "Installing collected packages: PyAudio\n",
      "Successfully installed PyAudio-0.2.11\n",
      "[*] 110 kB / 110 kB @ 16 kB/s [##################] [100%, 0s left]    \n"
     ]
    }
   ],
   "source": [
    "!pip install pipwin\n",
    "!pipwin install pyaudio"
   ]
  },
  {
   "cell_type": "code",
   "execution_count": 4,
   "metadata": {},
   "outputs": [],
   "source": [
    "import speech_recognition as sr\n",
    "def speech_to_text():\n",
    "    recognizer = sr.Recognizer()\n",
    "    with sr.Microphone() as mic:\n",
    "         print(\"listening...\")\n",
    "         audio = recognizer.listen(mic)\n",
    "    try:\n",
    "         text = recognizer.recognize_google(audio)\n",
    "         print(\"me --> \", text)\n",
    "    except:\n",
    "         print(\"me -->  ERROR\")"
   ]
  },
  {
   "cell_type": "code",
   "execution_count": 5,
   "metadata": {},
   "outputs": [
    {
     "name": "stdout",
     "output_type": "stream",
     "text": [
      "listening...\n",
      "me -->  hello how are you\n"
     ]
    }
   ],
   "source": [
    "speech_to_text()"
   ]
  }
 ],
 "metadata": {
  "kernelspec": {
   "display_name": "Python 3",
   "language": "python",
   "name": "python3"
  },
  "language_info": {
   "codemirror_mode": {
    "name": "ipython",
    "version": 3
   },
   "file_extension": ".py",
   "mimetype": "text/x-python",
   "name": "python",
   "nbconvert_exporter": "python",
   "pygments_lexer": "ipython3",
   "version": "3.8.3"
  }
 },
 "nbformat": 4,
 "nbformat_minor": 4
}
